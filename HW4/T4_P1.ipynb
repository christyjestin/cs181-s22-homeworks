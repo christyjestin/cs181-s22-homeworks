{
 "cells": [
  {
   "cell_type": "code",
   "execution_count": 24,
   "metadata": {},
   "outputs": [],
   "source": [
    "import numpy as np\n",
    "import matplotlib.pyplot as plt"
   ]
  },
  {
   "cell_type": "code",
   "execution_count": 63,
   "metadata": {},
   "outputs": [],
   "source": [
    "data = np.array([(-3, +1), (-2, +1), (-1, -1), (0, +1), (1, -1), (2, +1), (3, +1)])\n",
    "x, y = np.hsplit(data, 2)\n",
    "y = y.flatten()"
   ]
  },
  {
   "cell_type": "code",
   "execution_count": 64,
   "metadata": {},
   "outputs": [],
   "source": [
    "def phi(x):\n",
    "    return np.hstack((x, (-8 / 3) * x**2 + (2 / 3) * x**4))"
   ]
  },
  {
   "cell_type": "code",
   "execution_count": 65,
   "metadata": {},
   "outputs": [
    {
     "data": {
      "text/plain": [
       "[<matplotlib.lines.Line2D at 0x27a643323a0>]"
      ]
     },
     "execution_count": 65,
     "metadata": {},
     "output_type": "execute_result"
    },
    {
     "data": {
      "image/png": "[encoded data removed]",
      "text/plain": [
       "<Figure size 432x288 with 1 Axes>"
      ]
     },
     "metadata": {
      "needs_background": "light"
     },
     "output_type": "display_data"
    }
   ],
   "source": [
    "transformed = phi(x)\n",
    "plt.scatter(transformed[:, 0][y>0], transformed[:, 1][y>0], marker=\"+\")\n",
    "plt.scatter(transformed[:, 0][y<0], transformed[:, 1][y<0], marker=\"_\")\n",
    "plt.plot(np.linspace(-3, 3, 50), np.repeat(-1, 50))"
   ]
  },
  {
   "cell_type": "code",
   "execution_count": 70,
   "metadata": {},
   "outputs": [],
   "source": [
    "def phi2(x):\n",
    "    return np.hstack((x, (-31/12) * x**2 + (7 / 12) * x**4))"
   ]
  },
  {
   "cell_type": "code",
   "execution_count": 73,
   "metadata": {},
   "outputs": [
    {
     "data": {
      "text/plain": [
       "[<matplotlib.lines.Line2D at 0x27a644b0c40>]"
      ]
     },
     "execution_count": 73,
     "metadata": {},
     "output_type": "execute_result"
    },
    {
     "data": {
      "image/png": "[encoded data removed]",
      "text/plain": [
       "<Figure size 432x288 with 1 Axes>"
      ]
     },
     "metadata": {
      "needs_background": "light"
     },
     "output_type": "display_data"
    }
   ],
   "source": [
    "transformed = phi2(x)\n",
    "plt.scatter(transformed[:, 0][y>0], transformed[:, 1][y>0], marker=\"+\")\n",
    "plt.scatter(transformed[:, 0][y<0], transformed[:, 1][y<0], marker=\"_\")\n",
    "plt.plot(np.linspace(-3, 3, 50), np.repeat(-1.5, 50))"
   ]
  }
 ],
 "metadata": {
  "interpreter": {
   "hash": "850968aaed18bf61c1838bbe646b8cc1589d0b103d9546ea0876b62994d6a566"
  },
  "kernelspec": {
   "display_name": "Python 3.8.3 ('base')",
   "language": "python",
   "name": "python3"
  },
  "language_info": {
   "codemirror_mode": {
    "name": "ipython",
    "version": 3
   },
   "file_extension": ".py",
   "mimetype": "text/x-python",
   "name": "python",
   "nbconvert_exporter": "python",
   "pygments_lexer": "ipython3",
   "version": "3.8.3"
  },
  "orig_nbformat": 4
 },
 "nbformat": 4,
 "nbformat_minor": 2
}
